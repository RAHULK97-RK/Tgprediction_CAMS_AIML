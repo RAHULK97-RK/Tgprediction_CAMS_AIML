{
  "cells": [
    {
      "cell_type": "code",
      "execution_count": null,
      "id": "bbd36256-e2e4-4f80-8641-a39a66caeb71",
      "metadata": {
        "id": "bbd36256-e2e4-4f80-8641-a39a66caeb71"
      },
      "outputs": [],
      "source": [
        "import pandas as pd\n",
        "import numpy as np\n",
        "import matplotlib.pyplot as plt\n",
        "import seaborn as sns\n",
        "\n",
        "from sklearn.model_selection import train_test_split\n",
        "from sklearn.ensemble import RandomForestRegressor\n",
        "from sklearn.metrics import mean_squared_error, mean_absolute_error, r2_score"
      ]
    },
    {
      "cell_type": "code",
      "execution_count": null,
      "id": "ef2e7ca6-9658-4441-8ddd-c610361ac632",
      "metadata": {
        "id": "ef2e7ca6-9658-4441-8ddd-c610361ac632",
        "outputId": "6c74915e-fea8-40f4-9be3-8827f7170539"
      },
      "outputs": [
        {
          "name": "stdout",
          "output_type": "stream",
          "text": [
            "(302, 37)\n"
          ]
        },
        {
          "data": {
            "text/html": [
              "<div>\n",
              "<style scoped>\n",
              "    .dataframe tbody tr th:only-of-type {\n",
              "        vertical-align: middle;\n",
              "    }\n",
              "\n",
              "    .dataframe tbody tr th {\n",
              "        vertical-align: top;\n",
              "    }\n",
              "\n",
              "    .dataframe thead th {\n",
              "        text-align: right;\n",
              "    }\n",
              "</style>\n",
              "<table border=\"1\" class=\"dataframe\">\n",
              "  <thead>\n",
              "    <tr style=\"text-align: right;\">\n",
              "      <th></th>\n",
              "      <th>coamorphous_system</th>\n",
              "      <th>molecular_formula_drug</th>\n",
              "      <th>smiles_drug</th>\n",
              "      <th>molecular_formula_coformer</th>\n",
              "      <th>smiles_coformer</th>\n",
              "      <th>ratio_part_drug</th>\n",
              "      <th>ratio_part_coformer</th>\n",
              "      <th>molecular_weight_drug</th>\n",
              "      <th>molecular_weight_coformer</th>\n",
              "      <th>pka_drug_acid</th>\n",
              "      <th>...</th>\n",
              "      <th>bond_energy</th>\n",
              "      <th>density</th>\n",
              "      <th>cohesive_energy_density</th>\n",
              "      <th>solubility_parameter</th>\n",
              "      <th>inter_potential_energy</th>\n",
              "      <th>inter_van_der_waals_energy</th>\n",
              "      <th>inter_electrostatic_energy</th>\n",
              "      <th>total_potential_energy</th>\n",
              "      <th>total_van_der_waals_energy</th>\n",
              "      <th>total_electrostatic_energy</th>\n",
              "    </tr>\n",
              "  </thead>\n",
              "  <tbody>\n",
              "    <tr>\n",
              "      <th>0</th>\n",
              "      <td>LCD-ENL</td>\n",
              "      <td>C26H33NO6</td>\n",
              "      <td>CCOC(=O)C1=C(NC(=C(C1C2=CC=CC=C2/C=C/C(=O)OC(C...</td>\n",
              "      <td>C20H28N2O5</td>\n",
              "      <td>CCOC(=O)[C@H](CCC1=CC=CC=C1)N[C@@H](C)C(=O)N2C...</td>\n",
              "      <td>2</td>\n",
              "      <td>1.0</td>\n",
              "      <td>455.50</td>\n",
              "      <td>376.40</td>\n",
              "      <td>19.47</td>\n",
              "      <td>...</td>\n",
              "      <td>721.057794</td>\n",
              "      <td>0.976339</td>\n",
              "      <td>2.621069e+08</td>\n",
              "      <td>16.190000</td>\n",
              "      <td>-826.140000</td>\n",
              "      <td>-718.640000</td>\n",
              "      <td>-62.700000</td>\n",
              "      <td>-2037.560000</td>\n",
              "      <td>-195.713817</td>\n",
              "      <td>-696.010000</td>\n",
              "    </tr>\n",
              "    <tr>\n",
              "      <th>1</th>\n",
              "      <td>LDC-FLB_1</td>\n",
              "      <td>C14H22N2O</td>\n",
              "      <td>CCN(CC)CC(=O)NC1=C(C=CC=C1C)C</td>\n",
              "      <td>C15H13FO2</td>\n",
              "      <td>CC(C1=CC(=C(C=C1)C2=CC=CC=C2)F)C(=O)O</td>\n",
              "      <td>1</td>\n",
              "      <td>9.0</td>\n",
              "      <td>234.34</td>\n",
              "      <td>244.26</td>\n",
              "      <td>13.78</td>\n",
              "      <td>...</td>\n",
              "      <td>89.866847</td>\n",
              "      <td>0.999858</td>\n",
              "      <td>3.191583e+08</td>\n",
              "      <td>17.865003</td>\n",
              "      <td>-185.596710</td>\n",
              "      <td>-147.524713</td>\n",
              "      <td>-30.217949</td>\n",
              "      <td>-309.162170</td>\n",
              "      <td>-55.252734</td>\n",
              "      <td>-226.224629</td>\n",
              "    </tr>\n",
              "    <tr>\n",
              "      <th>2</th>\n",
              "      <td>LDC-FLB_2</td>\n",
              "      <td>C14H22N2O</td>\n",
              "      <td>CCN(CC)CC(=O)NC1=C(C=CC=C1C)C</td>\n",
              "      <td>C15H13FO2</td>\n",
              "      <td>CC(C1=CC(=C(C=C1)C2=CC=CC=C2)F)C(=O)O</td>\n",
              "      <td>3</td>\n",
              "      <td>7.0</td>\n",
              "      <td>234.34</td>\n",
              "      <td>244.26</td>\n",
              "      <td>13.78</td>\n",
              "      <td>...</td>\n",
              "      <td>104.416914</td>\n",
              "      <td>0.977514</td>\n",
              "      <td>3.200669e+08</td>\n",
              "      <td>17.890400</td>\n",
              "      <td>-188.826400</td>\n",
              "      <td>-147.610800</td>\n",
              "      <td>-33.211000</td>\n",
              "      <td>-228.382300</td>\n",
              "      <td>-56.521700</td>\n",
              "      <td>-190.917300</td>\n",
              "    </tr>\n",
              "    <tr>\n",
              "      <th>3</th>\n",
              "      <td>LDC-FLB_3</td>\n",
              "      <td>C14H22N2O</td>\n",
              "      <td>CCN(CC)CC(=O)NC1=C(C=CC=C1C)C</td>\n",
              "      <td>C15H13FO2</td>\n",
              "      <td>CC(C1=CC(=C(C=C1)C2=CC=CC=C2)F)C(=O)O</td>\n",
              "      <td>1</td>\n",
              "      <td>1.0</td>\n",
              "      <td>234.34</td>\n",
              "      <td>244.26</td>\n",
              "      <td>13.78</td>\n",
              "      <td>...</td>\n",
              "      <td>95.303943</td>\n",
              "      <td>0.952748</td>\n",
              "      <td>3.292751e+08</td>\n",
              "      <td>18.145938</td>\n",
              "      <td>-197.669369</td>\n",
              "      <td>-151.414404</td>\n",
              "      <td>-38.125725</td>\n",
              "      <td>-152.916062</td>\n",
              "      <td>-59.532319</td>\n",
              "      <td>-142.752012</td>\n",
              "    </tr>\n",
              "    <tr>\n",
              "      <th>4</th>\n",
              "      <td>LDC-FLB_4</td>\n",
              "      <td>C14H22N2O</td>\n",
              "      <td>CCN(CC)CC(=O)NC1=C(C=CC=C1C)C</td>\n",
              "      <td>C15H13FO2</td>\n",
              "      <td>CC(C1=CC(=C(C=C1)C2=CC=CC=C2)F)C(=O)O</td>\n",
              "      <td>7</td>\n",
              "      <td>3.0</td>\n",
              "      <td>234.34</td>\n",
              "      <td>244.26</td>\n",
              "      <td>13.78</td>\n",
              "      <td>...</td>\n",
              "      <td>104.397933</td>\n",
              "      <td>0.920987</td>\n",
              "      <td>3.073240e+08</td>\n",
              "      <td>17.530700</td>\n",
              "      <td>-189.271500</td>\n",
              "      <td>-150.297700</td>\n",
              "      <td>-30.789500</td>\n",
              "      <td>-75.338300</td>\n",
              "      <td>-63.840100</td>\n",
              "      <td>-97.341700</td>\n",
              "    </tr>\n",
              "  </tbody>\n",
              "</table>\n",
              "<p>5 rows × 37 columns</p>\n",
              "</div>"
            ],
            "text/plain": [
              "  coamorphous_system molecular_formula_drug  \\\n",
              "0            LCD-ENL              C26H33NO6   \n",
              "1          LDC-FLB_1              C14H22N2O   \n",
              "2          LDC-FLB_2              C14H22N2O   \n",
              "3          LDC-FLB_3              C14H22N2O   \n",
              "4          LDC-FLB_4              C14H22N2O   \n",
              "\n",
              "                                         smiles_drug  \\\n",
              "0  CCOC(=O)C1=C(NC(=C(C1C2=CC=CC=C2/C=C/C(=O)OC(C...   \n",
              "1                      CCN(CC)CC(=O)NC1=C(C=CC=C1C)C   \n",
              "2                      CCN(CC)CC(=O)NC1=C(C=CC=C1C)C   \n",
              "3                      CCN(CC)CC(=O)NC1=C(C=CC=C1C)C   \n",
              "4                      CCN(CC)CC(=O)NC1=C(C=CC=C1C)C   \n",
              "\n",
              "  molecular_formula_coformer  \\\n",
              "0                 C20H28N2O5   \n",
              "1                  C15H13FO2   \n",
              "2                  C15H13FO2   \n",
              "3                  C15H13FO2   \n",
              "4                  C15H13FO2   \n",
              "\n",
              "                                     smiles_coformer  ratio_part_drug  \\\n",
              "0  CCOC(=O)[C@H](CCC1=CC=CC=C1)N[C@@H](C)C(=O)N2C...                2   \n",
              "1              CC(C1=CC(=C(C=C1)C2=CC=CC=C2)F)C(=O)O                1   \n",
              "2              CC(C1=CC(=C(C=C1)C2=CC=CC=C2)F)C(=O)O                3   \n",
              "3              CC(C1=CC(=C(C=C1)C2=CC=CC=C2)F)C(=O)O                1   \n",
              "4              CC(C1=CC(=C(C=C1)C2=CC=CC=C2)F)C(=O)O                7   \n",
              "\n",
              "   ratio_part_coformer  molecular_weight_drug  molecular_weight_coformer  \\\n",
              "0                  1.0                 455.50                     376.40   \n",
              "1                  9.0                 234.34                     244.26   \n",
              "2                  7.0                 234.34                     244.26   \n",
              "3                  1.0                 234.34                     244.26   \n",
              "4                  3.0                 234.34                     244.26   \n",
              "\n",
              "   pka_drug_acid  ...  bond_energy   density  cohesive_energy_density  \\\n",
              "0          19.47  ...   721.057794  0.976339             2.621069e+08   \n",
              "1          13.78  ...    89.866847  0.999858             3.191583e+08   \n",
              "2          13.78  ...   104.416914  0.977514             3.200669e+08   \n",
              "3          13.78  ...    95.303943  0.952748             3.292751e+08   \n",
              "4          13.78  ...   104.397933  0.920987             3.073240e+08   \n",
              "\n",
              "   solubility_parameter  inter_potential_energy  inter_van_der_waals_energy  \\\n",
              "0             16.190000             -826.140000                 -718.640000   \n",
              "1             17.865003             -185.596710                 -147.524713   \n",
              "2             17.890400             -188.826400                 -147.610800   \n",
              "3             18.145938             -197.669369                 -151.414404   \n",
              "4             17.530700             -189.271500                 -150.297700   \n",
              "\n",
              "   inter_electrostatic_energy  total_potential_energy  \\\n",
              "0                  -62.700000            -2037.560000   \n",
              "1                  -30.217949             -309.162170   \n",
              "2                  -33.211000             -228.382300   \n",
              "3                  -38.125725             -152.916062   \n",
              "4                  -30.789500              -75.338300   \n",
              "\n",
              "   total_van_der_waals_energy  total_electrostatic_energy  \n",
              "0                 -195.713817                 -696.010000  \n",
              "1                  -55.252734                 -226.224629  \n",
              "2                  -56.521700                 -190.917300  \n",
              "3                  -59.532319                 -142.752012  \n",
              "4                  -63.840100                  -97.341700  \n",
              "\n",
              "[5 rows x 37 columns]"
            ]
          },
          "execution_count": 2,
          "metadata": {},
          "output_type": "execute_result"
        }
      ],
      "source": [
        "df = pd.read_excel(\"aiml_tg_prediction.xlsx\")\n",
        "print(df.shape)\n",
        "df.head()"
      ]
    },
    {
      "cell_type": "code",
      "execution_count": null,
      "id": "93d42796-ead8-473f-b386-586ec9df2f13",
      "metadata": {
        "id": "93d42796-ead8-473f-b386-586ec9df2f13"
      },
      "outputs": [],
      "source": [
        "drop_cols = [\n",
        "    'coamorphous_system', 'molecular_formula_drug', 'smiles_drug',\n",
        "    'molecular_formula_coformer', 'smiles_coformer'\n",
        "]\n",
        "\n",
        "# Drop SMILES and ID columns\n",
        "df = df.drop(columns=drop_cols, errors='ignore')\n",
        "\n",
        "# Drop rows with missing target\n",
        "df = df.dropna(subset=['experimental_tg']).dropna()"
      ]
    },
    {
      "cell_type": "code",
      "execution_count": null,
      "id": "64599d03-0ff2-4940-9e5e-0ed5adb69ce3",
      "metadata": {
        "id": "64599d03-0ff2-4940-9e5e-0ed5adb69ce3"
      },
      "outputs": [],
      "source": [
        "X = df.drop(columns=['experimental_tg'])\n",
        "y = df['experimental_tg']\n",
        "\n",
        "# Ensure all values are float\n",
        "X = X.astype(float)"
      ]
    },
    {
      "cell_type": "code",
      "execution_count": null,
      "id": "2096f9a0-a67e-4e6b-aaaf-0d82e947d105",
      "metadata": {
        "id": "2096f9a0-a67e-4e6b-aaaf-0d82e947d105"
      },
      "outputs": [],
      "source": [
        "X_train, X_temp, y_train, y_temp = train_test_split(X, y, test_size=0.2, random_state=42)\n",
        "X_val, X_test, y_val, y_test = train_test_split(X_temp, y_temp, test_size=0.5, random_state=42)"
      ]
    },
    {
      "cell_type": "code",
      "execution_count": null,
      "id": "0c9771cf-1553-4a58-9814-a735f614ee28",
      "metadata": {
        "id": "0c9771cf-1553-4a58-9814-a735f614ee28"
      },
      "outputs": [],
      "source": [
        "rf = RandomForestRegressor(n_estimators=200, random_state=42)\n",
        "rf.fit(X_train, y_train)\n",
        "\n",
        "rf_preds = rf.predict(X_test)"
      ]
    },
    {
      "cell_type": "code",
      "execution_count": null,
      "id": "3045f588-e9df-4142-920c-54a0389ecd86",
      "metadata": {
        "collapsed": true,
        "id": "3045f588-e9df-4142-920c-54a0389ecd86"
      },
      "outputs": [],
      "source": [
        "import numpy as np\n",
        "from sklearn.metrics import mean_squared_error, mean_absolute_error, r2_score\n",
        "\n",
        "def evaluate_model(y_true, y_pred, name=\"Model\"):\n",
        "    print(f\"{name} Evaluation\")\n",
        "    print(f\"R² Score: {r2_score(y_true, y_pred):.4f}\")\n",
        "    print(f\"MAE     : {mean_absolute_error(y_true, y_pred):.4f}\")\n",
        "    print(f\"RMSE    : {np.sqrt(mean_squared_error(y_true, y_pred)):.4f}\")\n",
        "    print(\"\")\n",
        "\n",
        "# ✅ Now call the function properly after the definition\n",
        "evaluate_model(y_test, rf_preds, \"Random Forest\")"
      ]
    },
    {
      "cell_type": "code",
      "execution_count": null,
      "id": "95785107-681a-4d2c-9029-ca8566cc7faf",
      "metadata": {
        "id": "95785107-681a-4d2c-9029-ca8566cc7faf"
      },
      "outputs": [],
      "source": [
        "import matplotlib.pyplot as plt\n",
        "\n",
        "def plot_predictions(y_true, y_pred, title=\"Prediction vs Actual\"):\n",
        "    plt.figure(figsize=(6, 6))\n",
        "    plt.scatter(y_true, y_pred, color='teal', alpha=0.7, edgecolor='k')\n",
        "    plt.plot([y_true.min(), y_true.max()], [y_true.min(), y_true.max()], 'r--', lw=2)\n",
        "    plt.xlabel(\"Actual Tg\")\n",
        "    plt.ylabel(\"Predicted Tg\")\n",
        "    plt.title(title)\n",
        "    plt.grid(True)\n",
        "    plt.tight_layout()\n",
        "    plt.show()\n",
        "\n",
        "plot_predictions(y_test, rf_preds, \"Random Forest: Predicted vs Actual Tg\")"
      ]
    },
    {
      "cell_type": "code",
      "execution_count": null,
      "id": "b673a8b2-58a2-4801-b144-48531a221e31",
      "metadata": {
        "id": "b673a8b2-58a2-4801-b144-48531a221e31"
      },
      "outputs": [],
      "source": [
        "import pandas as pd\n",
        "\n",
        "# Create a DataFrame of actual vs predicted values\n",
        "results_df = pd.DataFrame({\n",
        "    'Actual_Tg': y_test.reset_index(drop=True),\n",
        "    'Predicted_Tg_RF': rf_preds\n",
        "})\n",
        "\n",
        "# Export to Excel\n",
        "results_df.to_excel(\"rf_tg_predictions.xlsx\", index=False)\n",
        "print(\"✅ Results saved to rf_tg_predictions.xlsx\")"
      ]
    },
    {
      "cell_type": "code",
      "execution_count": null,
      "id": "008a678b-a41e-4461-a667-e6206307c78f",
      "metadata": {
        "id": "008a678b-a41e-4461-a667-e6206307c78f"
      },
      "outputs": [],
      "source": [
        "import pandas as pd\n",
        "import joblib\n",
        "import numpy as np\n",
        "import matplotlib.pyplot as plt\n",
        "\n",
        "# Save predictions\n",
        "results_df = pd.DataFrame({\n",
        "    'Actual_Tg': y_test.reset_index(drop=True),\n",
        "    'Predicted_Tg_RF': rf_preds\n",
        "})\n",
        "results_df.to_excel(\"rf_tg_predictions.xlsx\", index=False)\n",
        "\n",
        "# Save model\n",
        "joblib.dump(rf, \"rf_model.pkl\")\n",
        "\n",
        "# Save test data (features + target)\n",
        "X_test_df = pd.DataFrame(X_test, columns=X.columns)\n",
        "X_test_df.to_excel(\"X_test_rf.xlsx\", index=False)\n",
        "y_test.to_excel(\"y_test_rf.xlsx\", index=False)\n",
        "\n",
        "# Plot and save feature importance\n",
        "importances = rf.feature_importances_\n",
        "feat_df = pd.DataFrame({'Feature': X.columns, 'Importance': importances})\n",
        "feat_df = feat_df.sort_values(by='Importance', ascending=False)\n",
        "\n",
        "plt.figure(figsize=(8, 6))\n",
        "plt.barh(feat_df['Feature'], feat_df['Importance'], color='teal')\n",
        "plt.xlabel(\"Importance\")\n",
        "plt.title(\"Random Forest Feature Importance\")\n",
        "plt.gca().invert_yaxis()\n",
        "plt.tight_layout()\n",
        "plt.savefig(\"rf_feature_importance.png\")\n",
        "plt.close()\n",
        "\n",
        "print(\"✅ All components saved.\")"
      ]
    },
    {
      "cell_type": "code",
      "execution_count": null,
      "id": "50d7a7b6-5e6d-4442-97a9-d7980a6ec05a",
      "metadata": {
        "id": "50d7a7b6-5e6d-4442-97a9-d7980a6ec05a"
      },
      "outputs": [],
      "source": [
        "import pandas as pd\n",
        "\n",
        "results_df = pd.DataFrame({\n",
        "    'Actual_Tg': y_test,\n",
        "    'Predicted_Tg_RF': rf_preds\n",
        "})\n",
        "results_df.to_excel(\"tg_predictions_rf.xlsx\", index=False)\n",
        "print(\"✅ Exported: tg_predictions_rf.xlsx\")"
      ]
    },
    {
      "cell_type": "code",
      "execution_count": null,
      "id": "05870a1a-6cd4-426b-a5d3-41e7096744d3",
      "metadata": {
        "id": "05870a1a-6cd4-426b-a5d3-41e7096744d3"
      },
      "outputs": [],
      "source": [
        "import matplotlib.pyplot as plt\n",
        "\n",
        "importances = rf.feature_importances_\n",
        "feature_names = X_train.columns\n",
        "sorted_idx = importances.argsort()[::-1]\n",
        "\n",
        "plt.figure(figsize=(8, 6))\n",
        "plt.barh(range(len(importances)), importances[sorted_idx], align='center')\n",
        "plt.yticks(range(len(importances)), feature_names[sorted_idx])\n",
        "plt.xlabel(\"Feature Importance\")\n",
        "plt.title(\"Random Forest Feature Importance\")\n",
        "plt.gca().invert_yaxis()\n",
        "plt.tight_layout()\n",
        "plt.show()"
      ]
    },
    {
      "cell_type": "code",
      "execution_count": null,
      "id": "82df1d06-4cbf-4bb9-9a1e-37468cb78555",
      "metadata": {
        "id": "82df1d06-4cbf-4bb9-9a1e-37468cb78555"
      },
      "outputs": [],
      "source": [
        "from sklearn.metrics import r2_score\n",
        "\n",
        "r2_train = r2_score(y_train, rf.predict(X_train))\n",
        "r2_test = r2_score(y_test, rf_preds)\n",
        "\n",
        "plt.figure(figsize=(6, 5))\n",
        "plt.bar([\"Train\", \"Test\"], [r2_train, r2_test], color=['skyblue', 'lightgreen'])\n",
        "plt.ylabel(\"R² Score\")\n",
        "plt.title(\"R² Comparison - Train vs Test (RF)\")\n",
        "plt.ylim(0, 1)\n",
        "plt.grid(True, axis='y')\n",
        "plt.show()"
      ]
    },
    {
      "cell_type": "code",
      "execution_count": null,
      "id": "2df8315a-e8fc-423f-85e5-b03a30e41e57",
      "metadata": {
        "id": "2df8315a-e8fc-423f-85e5-b03a30e41e57"
      },
      "outputs": [],
      "source": [
        "plt.figure(figsize=(8, 5))\n",
        "plt.hist(y, bins=25, color=\"lightcoral\", alpha=0.6, label='Tg Distribution')\n",
        "plt.xlabel(\"Glass Transition Temperature (Tg)\")\n",
        "plt.ylabel(\"Frequency\")\n",
        "plt.title(\"Histogram of Tg Values\")\n",
        "plt.legend()\n",
        "plt.grid(True)\n",
        "plt.tight_layout()\n",
        "plt.show()"
      ]
    },
    {
      "cell_type": "code",
      "execution_count": null,
      "id": "fd7c75c0-a950-4cfb-b839-a1d27b61b165",
      "metadata": {
        "id": "fd7c75c0-a950-4cfb-b839-a1d27b61b165"
      },
      "outputs": [],
      "source": [
        "import shap\n",
        "\n",
        "explainer = shap.Explainer(rf, X_train)\n",
        "shap_values = explainer(X_test)\n",
        "\n",
        "shap.plots.beeswarm(shap_values, max_display=15)"
      ]
    },
    {
      "cell_type": "code",
      "execution_count": null,
      "id": "00af67db-9cc2-4589-89e1-6cc15395af5d",
      "metadata": {
        "id": "00af67db-9cc2-4589-89e1-6cc15395af5d"
      },
      "outputs": [],
      "source": [
        "from sklearn.inspection import PartialDependenceDisplay\n",
        "\n",
        "top_features = sorted_idx[:4]\n",
        "PartialDependenceDisplay.from_estimator(rf, X_test, features=top_features, kind=\"average\", grid_resolution=20)\n",
        "plt.tight_layout()\n",
        "plt.show()"
      ]
    },
    {
      "cell_type": "code",
      "execution_count": null,
      "id": "a101a7a2-aa74-4ad0-bc2d-bf98301ac685",
      "metadata": {
        "id": "a101a7a2-aa74-4ad0-bc2d-bf98301ac685"
      },
      "outputs": [],
      "source": [
        "from sklearn.metrics import r2_score, mean_absolute_error, mean_squared_error\n",
        "import numpy as np\n",
        "\n",
        "def evaluate_model(y_true, y_pred, name=\"Model\"):\n",
        "    print(f\"\\n📊 {name} Evaluation\")\n",
        "    print(f\"R² Score: {r2_score(y_true, y_pred):.4f}\")\n",
        "    print(f\"MAE     : {mean_absolute_error(y_true, y_pred):.4f}\")\n",
        "    print(f\"RMSE    : {np.sqrt(mean_squared_error(y_true, y_pred)):.4f}\")"
      ]
    },
    {
      "cell_type": "code",
      "execution_count": null,
      "id": "d0286fe3-3ab4-4a61-8be4-d39ca4c1cd41",
      "metadata": {
        "id": "d0286fe3-3ab4-4a61-8be4-d39ca4c1cd41"
      },
      "outputs": [],
      "source": [
        "# Predict on each set\n",
        "rf_preds_train = rf.predict(X_train)\n",
        "rf_preds_val   = rf.predict(X_val)\n",
        "rf_preds_test  = rf.predict(X_test)\n",
        "\n",
        "# Evaluate\n",
        "evaluate_model(y_train, rf_preds_train, \"Random Forest - Training\")\n",
        "evaluate_model(y_val, rf_preds_val, \"Random Forest - Validation\")\n",
        "evaluate_model(y_test, rf_preds_test, \"Random Forest - Test\")"
      ]
    },
    {
      "cell_type": "code",
      "execution_count": null,
      "id": "1be6ebd1-65b0-4472-a560-a9dba7ccd8ac",
      "metadata": {
        "id": "1be6ebd1-65b0-4472-a560-a9dba7ccd8ac"
      },
      "outputs": [],
      "source": [
        "import pandas as pd\n",
        "\n",
        "results_df = pd.DataFrame({\n",
        "    'Set': ['Train', 'Validation', 'Test'],\n",
        "    'R2': [\n",
        "        r2_score(y_train, rf_preds_train),\n",
        "        r2_score(y_val, rf_preds_val),\n",
        "        r2_score(y_test, rf_preds_test)\n",
        "    ],\n",
        "    'MAE': [\n",
        "        mean_absolute_error(y_train, rf_preds_train),\n",
        "        mean_absolute_error(y_val, rf_preds_val),\n",
        "        mean_absolute_error(y_test, rf_preds_test)\n",
        "    ],\n",
        "    'RMSE': [\n",
        "        np.sqrt(mean_squared_error(y_train, rf_preds_train)),\n",
        "        np.sqrt(mean_squared_error(y_val, rf_preds_val)),\n",
        "        np.sqrt(mean_squared_error(y_test, rf_preds_test))\n",
        "    ]\n",
        "})\n",
        "\n",
        "results_df.to_excel(\"model_performance_all_sets.xlsx\", index=False)\n",
        "print(\"✅ Model performance saved to model_performance_all_sets.xlsx\")"
      ]
    },
    {
      "cell_type": "code",
      "execution_count": null,
      "id": "364bbeb4-6f7d-434c-83a3-d7f8f3642798",
      "metadata": {
        "id": "364bbeb4-6f7d-434c-83a3-d7f8f3642798"
      },
      "outputs": [],
      "source": [
        "import matplotlib.pyplot as plt\n",
        "\n",
        "# Labels and values\n",
        "sets = ['Train', 'Validation', 'Test']\n",
        "r2_vals = results_df['R2']\n",
        "mae_vals = results_df['MAE']\n",
        "rmse_vals = results_df['RMSE']\n",
        "\n",
        "x = np.arange(len(sets))  # label locations\n",
        "width = 0.25  # width of bars\n",
        "\n",
        "# Plotting\n",
        "plt.figure(figsize=(10, 6))\n",
        "plt.bar(x - width, r2_vals, width, label='R²', color='steelblue')\n",
        "plt.bar(x, mae_vals, width, label='MAE', color='orange')\n",
        "plt.bar(x + width, rmse_vals, width, label='RMSE', color='green')\n",
        "\n",
        "# Annotations & styling\n",
        "plt.ylabel('Metric Value')\n",
        "plt.title('Model Performance Across Datasets')\n",
        "plt.xticks(x, sets)\n",
        "plt.legend()\n",
        "plt.grid(axis='y', linestyle='--', alpha=0.6)\n",
        "plt.tight_layout()\n",
        "plt.show()"
      ]
    },
    {
      "cell_type": "code",
      "execution_count": null,
      "id": "81a351b4-6d75-4295-b721-1fe499bfcf62",
      "metadata": {
        "id": "81a351b4-6d75-4295-b721-1fe499bfcf62"
      },
      "outputs": [],
      "source": [
        "def tg_range_category(tg):\n",
        "    if tg <= 450:\n",
        "        return \"Low\"\n",
        "    elif tg <= 1150:\n",
        "        return \"Medium\"\n",
        "    else:\n",
        "        return \"High\"\n",
        "\n",
        "# Apply categories\n",
        "results_df = pd.DataFrame({\n",
        "    'Actual_Tg': y_test.reset_index(drop=True),\n",
        "    'Predicted_Tg': rf_preds\n",
        "})\n",
        "results_df[\"Tg_Range\"] = results_df[\"Actual_Tg\"].apply(tg_range_category)\n",
        "\n",
        "# Evaluate performance in each range\n",
        "from sklearn.metrics import mean_absolute_error, mean_squared_error, r2_score\n",
        "import numpy as np\n",
        "\n",
        "for group, df_group in results_df.groupby(\"Tg_Range\"):\n",
        "    r2 = r2_score(df_group[\"Actual_Tg\"], df_group[\"Predicted_Tg\"])\n",
        "    mae = mean_absolute_error(df_group[\"Actual_Tg\"], df_group[\"Predicted_Tg\"])\n",
        "    rmse = np.sqrt(mean_squared_error(df_group[\"Actual_Tg\"], df_group[\"Predicted_Tg\"]))\n",
        "    print(f\"📊 {group} Tg range:\")\n",
        "    print(f\"R²   = {r2:.4f}\")\n",
        "    print(f\"MAE  = {mae:.4f}\")\n",
        "    print(f\"RMSE = {rmse:.4f}\\n\")\n",
        "# Your current code already loops by Tg range\n",
        "# Simply ensure all three groups appear in the print output or bar plot"
      ]
    },
    {
      "cell_type": "code",
      "execution_count": null,
      "id": "8c5d8651-a1d5-4047-ac4a-0760509bb86f",
      "metadata": {
        "id": "8c5d8651-a1d5-4047-ac4a-0760509bb86f"
      },
      "outputs": [],
      "source": [
        "import matplotlib.pyplot as plt\n",
        "\n",
        "errors = results_df[\"Predicted_Tg\"] - results_df[\"Actual_Tg\"]\n",
        "\n",
        "plt.figure(figsize=(6,4))\n",
        "plt.scatter(results_df[\"Actual_Tg\"], errors, alpha=0.7, color='purple')\n",
        "plt.axhline(0, color='red', linestyle='--')\n",
        "plt.xlabel(\"Actual Tg\")\n",
        "plt.ylabel(\"Prediction Error (Predicted - Actual)\")\n",
        "plt.title(\"Residual Plot\")\n",
        "plt.grid(True)\n",
        "plt.tight_layout()\n",
        "plt.show()"
      ]
    },
    {
      "cell_type": "code",
      "execution_count": null,
      "id": "fb4711c7-c5fe-4bf6-aac8-12e706b5abbb",
      "metadata": {
        "id": "fb4711c7-c5fe-4bf6-aac8-12e706b5abbb"
      },
      "outputs": [],
      "source": [
        "sorted_df = results_df.sort_values(\"Actual_Tg\").reset_index(drop=True)\n",
        "\n",
        "plt.figure(figsize=(8,5))\n",
        "plt.plot(sorted_df[\"Actual_Tg\"], label=\"Actual Tg\", linewidth=2)\n",
        "plt.plot(sorted_df[\"Predicted_Tg\"], label=\"Predicted Tg\", linewidth=2, linestyle='--')\n",
        "plt.xlabel(\"Sample Index (Sorted by Actual Tg)\")\n",
        "plt.ylabel(\"Tg\")\n",
        "plt.title(\"Actual vs Predicted Tg (Sorted)\")\n",
        "plt.legend()\n",
        "plt.grid(True)\n",
        "plt.tight_layout()\n",
        "plt.show()"
      ]
    },
    {
      "cell_type": "code",
      "execution_count": null,
      "id": "aea2c52b-0bdc-485f-ac5c-ad93ba5c8049",
      "metadata": {
        "id": "aea2c52b-0bdc-485f-ac5c-ad93ba5c8049"
      },
      "outputs": [],
      "source": [
        "results_df[\"Absolute_Error\"] = abs(results_df[\"Actual_Tg\"] - results_df[\"Predicted_Tg\"])\n",
        "if \"smiles_drug\" in df.columns:\n",
        "    results_df[\"SMILES\"] = df.loc[y_test.index, \"smiles_drug\"].reset_index(drop=True)\n",
        "\n",
        "results_df.to_csv(\"tg_results_detailed.csv\", index=False)\n",
        "print(\"✅ Exported: tg_results_detailed.csv\")"
      ]
    },
    {
      "cell_type": "code",
      "execution_count": null,
      "id": "97356f52-9907-438a-b64e-622440989987",
      "metadata": {
        "id": "97356f52-9907-438a-b64e-622440989987"
      },
      "outputs": [],
      "source": [
        "import shap\n",
        "explainer = shap.Explainer(rf.predict, X_train)\n",
        "shap_values = explainer(X_test)\n",
        "\n",
        "shap.summary_plot(shap_values, X_test, plot_type=\"bar\")"
      ]
    },
    {
      "cell_type": "code",
      "execution_count": null,
      "id": "a09d2f1d-b033-4771-86d9-9bb50a1c4509",
      "metadata": {
        "id": "a09d2f1d-b033-4771-86d9-9bb50a1c4509"
      },
      "outputs": [],
      "source": [
        "errors = y_test - rf_preds\n",
        "plt.hist(errors, bins=20, color='gray')\n",
        "plt.title(\"Residual Distribution\")\n",
        "plt.xlabel(\"Prediction Error\")\n",
        "plt.ylabel(\"Frequency\")\n",
        "plt.show()"
      ]
    },
    {
      "cell_type": "code",
      "execution_count": null,
      "id": "a8d84103-aa0a-4082-836a-5bc34fc28a0e",
      "metadata": {
        "scrolled": true,
        "id": "a8d84103-aa0a-4082-836a-5bc34fc28a0e"
      },
      "outputs": [],
      "source": [
        "sns.regplot(x=y_test, y=rf_preds, ci=95)"
      ]
    },
    {
      "cell_type": "code",
      "execution_count": null,
      "id": "1840d8f0-4621-443a-be99-cc18bbf94e6d",
      "metadata": {
        "id": "1840d8f0-4621-443a-be99-cc18bbf94e6d"
      },
      "outputs": [],
      "source": [
        "import joblib\n",
        "joblib.dump(rf, 'final_rf_model.pkl')"
      ]
    },
    {
      "cell_type": "code",
      "execution_count": null,
      "id": "c0a9af97-d406-4dbf-bf49-d0fc3d885428",
      "metadata": {
        "id": "c0a9af97-d406-4dbf-bf49-d0fc3d885428"
      },
      "outputs": [],
      "source": [
        "plt.savefig(\"rf_scatter_plot.png\", dpi=600)"
      ]
    },
    {
      "cell_type": "code",
      "execution_count": null,
      "id": "0b1f817d-9010-4264-9dba-13db174f17f7",
      "metadata": {
        "id": "0b1f817d-9010-4264-9dba-13db174f17f7"
      },
      "outputs": [],
      "source": [
        "import joblib\n",
        "\n",
        "# Save the feature names used to train the model\n",
        "joblib.dump(X.columns.tolist(), \"rf_model_columns.pkl\")"
      ]
    },
    {
      "cell_type": "code",
      "execution_count": null,
      "id": "88b2a7e5-c51a-405b-9092-48813248836e",
      "metadata": {
        "id": "88b2a7e5-c51a-405b-9092-48813248836e"
      },
      "outputs": [],
      "source": [
        "feature_names = joblib.load(\"rf_model_columns.pkl\")"
      ]
    },
    {
      "cell_type": "code",
      "execution_count": null,
      "id": "56a037af-2098-480d-a5d1-e16e55813780",
      "metadata": {
        "id": "56a037af-2098-480d-a5d1-e16e55813780"
      },
      "outputs": [],
      "source": [
        "import pandas as pd\n",
        "import joblib\n",
        "\n",
        "# Load your model and its training feature names\n",
        "model = joblib.load(\"final_rf_model.pkl\")\n",
        "feature_names = joblib.load(\"rf_model_columns.pkl\")\n",
        "\n",
        "# Load the real coamorphous system data (AA_CAM)\n",
        "df_aa = pd.read_excel(\"ai_ml_tg_prediction_aa_cam.xlsx\")\n",
        "\n",
        "# Select and format only numeric features\n",
        "X_aa = df_aa.reindex(columns=feature_names, fill_value=0)\n",
        "X_aa = X_aa.apply(pd.to_numeric, errors=\"coerce\").fillna(0)\n",
        "\n",
        "# Predict Tg\n",
        "df_aa[\"Predicted_Tg\"] = model.predict(X_aa)\n",
        "\n",
        "# Save results\n",
        "df_aa.to_excel(\"Predicted_Tg_aa_cam.xlsx\", index=False)\n",
        "print(\"✅ Predicted Tg values saved to Predicted_Tg_aa_cam.xlsx\")"
      ]
    },
    {
      "cell_type": "code",
      "execution_count": null,
      "id": "54198a57-7ffb-460b-a30c-b98e50b91ebc",
      "metadata": {
        "id": "54198a57-7ffb-460b-a30c-b98e50b91ebc"
      },
      "outputs": [],
      "source": [
        "import matplotlib.pyplot as plt\n",
        "\n",
        "plt.figure(figsize=(6, 4))\n",
        "plt.hist(df_aa[\"Predicted_Tg\"], bins=20, color=\"skyblue\", edgecolor=\"black\")\n",
        "plt.xlabel(\"Predicted Tg\")\n",
        "plt.ylabel(\"Frequency\")\n",
        "plt.title(\"Predicted Glass Transition Temperature Distribution\")\n",
        "plt.tight_layout()\n",
        "plt.show()"
      ]
    },
    {
      "cell_type": "code",
      "execution_count": null,
      "id": "a3161666-73c2-4aa4-8373-090f51db3ffc",
      "metadata": {
        "id": "a3161666-73c2-4aa4-8373-090f51db3ffc"
      },
      "outputs": [],
      "source": [
        "import pandas as pd\n",
        "import joblib\n",
        "\n",
        "# Load the training dataset\n",
        "df_train = pd.read_excel(\"aiml_tg_prediction.xlsx\")\n",
        "\n",
        "# Drop non-feature columns (adjust if needed)\n",
        "non_feature_cols = [\n",
        "    \"coamorphous_system\", \"molecular_formula_drug\", \"smiles_drug\",\n",
        "    \"molecular_formula_coformer\", \"smiles_coformer\", \"experimental_tg\"\n",
        "]\n",
        "\n",
        "X_train = df_train.drop(columns=non_feature_cols, errors=\"ignore\")\n",
        "X_train = X_train.apply(pd.to_numeric, errors=\"coerce\").fillna(0)\n",
        "\n",
        "# Save the column names used during training\n",
        "joblib.dump(X_train.columns.tolist(), \"rf_model_columns.pkl\")\n",
        "print(\"✅ Saved feature column names as rf_model_columns.pkl\")"
      ]
    },
    {
      "cell_type": "code",
      "execution_count": null,
      "id": "d08c9ce6-3cb2-47ea-8a07-01732377f544",
      "metadata": {
        "id": "d08c9ce6-3cb2-47ea-8a07-01732377f544"
      },
      "outputs": [],
      "source": [
        "import pandas as pd\n",
        "import joblib\n",
        "\n",
        "# Load model and training column names\n",
        "model = joblib.load(\"rf_model.pkl\")\n",
        "feature_names = joblib.load(\"rf_model_columns.pkl\")\n",
        "\n",
        "# Load real coamorphous input (aa_cam)\n",
        "df = pd.read_excel(\"ai_ml_tg_prediction_aa_cam.xlsx\")\n",
        "\n",
        "# Ensure features match\n",
        "X = df.reindex(columns=feature_names, fill_value=0)\n",
        "X = X.apply(pd.to_numeric, errors=\"coerce\").fillna(0)\n",
        "\n",
        "# Predict Tg\n",
        "df[\"Predicted_Tg\"] = model.predict(X)\n",
        "\n",
        "# Export\n",
        "df.to_excel(\"Predicted_Tg_aa_cam_descriptors.xlsx\", index=False)\n",
        "print(\"✅ Tg predictions saved to: Predicted_Tg_aa_cam_descriptors.xlsx\")"
      ]
    },
    {
      "cell_type": "code",
      "execution_count": null,
      "id": "2b4b7669-99f5-4c53-81f0-78d33c03836e",
      "metadata": {
        "id": "2b4b7669-99f5-4c53-81f0-78d33c03836e"
      },
      "outputs": [],
      "source": [
        "import pandas as pd\n",
        "import joblib\n",
        "\n",
        "# Load your trained model and feature column names\n",
        "model = joblib.load(\"rf_model.pkl\")  # or \"final_rf_model.pkl\" — depending on what you last saved\n",
        "feature_names = joblib.load(\"rf_model_columns.pkl\")\n",
        "\n",
        "# Load the updated AA_CAM descriptor Excel file\n",
        "df = pd.read_excel(\"ai_ml_tg_prediction_aa_cam.xlsx\")\n",
        "\n",
        "# Reorder and clean columns to match model input\n",
        "X = df.reindex(columns=feature_names, fill_value=0)\n",
        "X = X.apply(pd.to_numeric, errors=\"coerce\").fillna(0)\n",
        "\n",
        "df[\"Predicted_Tg\"] = model.predict(X)"
      ]
    },
    {
      "cell_type": "code",
      "execution_count": null,
      "id": "0162d914-7948-4beb-ac44-ddb9cbdd5944",
      "metadata": {
        "id": "0162d914-7948-4beb-ac44-ddb9cbdd5944"
      },
      "outputs": [],
      "source": [
        "df.to_excel(\"Predicted_Tg_aa_cam_descriptors2.xlsx\", index=False)"
      ]
    },
    {
      "cell_type": "code",
      "execution_count": null,
      "id": "693338a8-c41f-455b-bc2b-bb58ad0ac39d",
      "metadata": {
        "id": "693338a8-c41f-455b-bc2b-bb58ad0ac39d"
      },
      "outputs": [],
      "source": []
    }
  ],
  "metadata": {
    "kernelspec": {
      "display_name": "Python 3 (ipykernel)",
      "language": "python",
      "name": "python3"
    },
    "language_info": {
      "codemirror_mode": {
        "name": "ipython",
        "version": 3
      },
      "file_extension": ".py",
      "mimetype": "text/x-python",
      "name": "python",
      "nbconvert_exporter": "python",
      "pygments_lexer": "ipython3",
      "version": "3.10.12"
    },
    "colab": {
      "provenance": []
    }
  },
  "nbformat": 4,
  "nbformat_minor": 5
}