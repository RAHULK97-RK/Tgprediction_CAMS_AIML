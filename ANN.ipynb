{
  "cells": [
    {
      "cell_type": "code",
      "execution_count": null,
      "id": "17308b6b-d599-4c90-a2d1-2269a17ee450",
      "metadata": {
        "id": "17308b6b-d599-4c90-a2d1-2269a17ee450"
      },
      "outputs": [],
      "source": [
        "import os\n",
        "os.environ[\"CUDA_VISIBLE_DEVICES\"] = \"-1\""
      ]
    },
    {
      "cell_type": "code",
      "execution_count": null,
      "id": "e4c65f50-533b-438b-b838-dbc18c02c2d6",
      "metadata": {
        "id": "e4c65f50-533b-438b-b838-dbc18c02c2d6"
      },
      "outputs": [],
      "source": [
        "import pandas as pd\n",
        "from sklearn.model_selection import train_test_split\n",
        "from sklearn.preprocessing import StandardScaler\n",
        "\n",
        "# Load your Excel file\n",
        "df = pd.read_excel(\"aiml_tg_prediction.xlsx\")\n",
        "df.columns = df.columns.str.strip()\n",
        "\n",
        "# Drop text columns\n",
        "df = df.drop(columns=[\n",
        "    'coamorphous_system', 'molecular_formula_drug', 'smiles_drug',\n",
        "    'molecular_formula_coformer', 'smiles_coformer'\n",
        "])\n",
        "\n",
        "# Drop rows with missing values\n",
        "df.dropna(inplace=True)\n",
        "\n",
        "# Split features and target\n",
        "X = df.drop(columns=['experimental_tg'])\n",
        "y = df['experimental_tg']\n",
        "\n",
        "# First split: 80% train, 20% temp\n",
        "X_train, X_temp, y_train, y_temp = train_test_split(X, y, test_size=0.2, random_state=42)\n",
        "\n",
        "# Second split: 10% validation, 10% test from temp\n",
        "X_val, X_test, y_val, y_test = train_test_split(X_temp, y_temp, test_size=0.5, random_state=42)\n",
        "# Scaling\n",
        "scaler = StandardScaler()\n",
        "X_train_scaled = scaler.fit_transform(X_train)\n",
        "X_val_scaled = scaler.transform(X_val)\n",
        "X_test_scaled = scaler.transform(X_test)"
      ]
    },
    {
      "cell_type": "code",
      "execution_count": null,
      "id": "616d5dea-cf27-433d-908d-b9f88c1ad3ee",
      "metadata": {
        "id": "616d5dea-cf27-433d-908d-b9f88c1ad3ee"
      },
      "outputs": [],
      "source": [
        "import os\n",
        "os.environ[\"CUDA_VISIBLE_DEVICES\"] = \"-1\""
      ]
    },
    {
      "cell_type": "code",
      "execution_count": null,
      "id": "37352ec8-da47-4911-8f16-0cc52debcac0",
      "metadata": {
        "id": "37352ec8-da47-4911-8f16-0cc52debcac0"
      },
      "outputs": [],
      "source": [
        "from tensorflow.keras.models import Sequential\n",
        "from tensorflow.keras.layers import Dense, Dropout, Input\n",
        "from tensorflow.keras import regularizers\n",
        "\n",
        "model = Sequential([\n",
        "    Input(shape=(X_train_scaled.shape[1],)),\n",
        "    Dense(512, activation='selu', kernel_regularizer=regularizers.l2(0.001)),\n",
        "    Dropout(0.3),\n",
        "    Dense(256, activation='selu', kernel_regularizer=regularizers.l2(0.001)),\n",
        "    Dropout(0.3),\n",
        "    Dense(128, activation='selu', kernel_regularizer=regularizers.l2(0.001)),\n",
        "    Dense(1)\n",
        "])"
      ]
    },
    {
      "cell_type": "code",
      "execution_count": null,
      "id": "db56bd54-051d-4710-b842-7d03b40fea8c",
      "metadata": {
        "id": "db56bd54-051d-4710-b842-7d03b40fea8c"
      },
      "outputs": [],
      "source": [
        "import os\n",
        "os.environ[\"CUDA_VISIBLE_DEVICES\"] = \"-1\""
      ]
    },
    {
      "cell_type": "code",
      "execution_count": null,
      "id": "e79f3a33-3f46-4280-bc54-63bd866d427b",
      "metadata": {
        "id": "e79f3a33-3f46-4280-bc54-63bd866d427b"
      },
      "outputs": [],
      "source": [
        "from tensorflow.keras.callbacks import EarlyStopping, ReduceLROnPlateau\n",
        "\n",
        "early_stop = EarlyStopping(monitor='val_loss', patience=1000, restore_best_weights=True)\n",
        "reduce_lr = ReduceLROnPlateau(monitor='val_loss', factor=0.9, patience=500, min_lr=1e-6)"
      ]
    },
    {
      "cell_type": "code",
      "execution_count": null,
      "id": "c9319845-691d-4c63-8dc6-5c8d8ac2cbdb",
      "metadata": {
        "id": "c9319845-691d-4c63-8dc6-5c8d8ac2cbdb"
      },
      "outputs": [],
      "source": [
        "model.compile(optimizer='adam', loss='mean_squared_error', metrics=['mae'])"
      ]
    },
    {
      "cell_type": "code",
      "execution_count": null,
      "id": "f4adae90-90cd-4870-a008-794db7af7729",
      "metadata": {
        "id": "f4adae90-90cd-4870-a008-794db7af7729"
      },
      "outputs": [],
      "source": [
        "history = model.fit(\n",
        "    X_train_scaled, y_train,\n",
        "    validation_data=(X_val_scaled, y_val),\n",
        "    epochs=6000,\n",
        "    batch_size=1000,   # NEW: increased batch size\n",
        "    callbacks=[early_stop, reduce_lr],\n",
        "    verbose=1\n",
        ")"
      ]
    },
    {
      "cell_type": "code",
      "execution_count": null,
      "id": "f3d8b6f0-fa6f-4c62-9368-54727b9e63ba",
      "metadata": {
        "id": "f3d8b6f0-fa6f-4c62-9368-54727b9e63ba"
      },
      "outputs": [],
      "source": [
        "# Predict on test set\n",
        "y_pred = model.predict(X_test_scaled).flatten()\n",
        "\n",
        "# Evaluate\n",
        "from sklearn.metrics import mean_absolute_error, mean_squared_error, r2_score\n",
        "import numpy as np\n",
        "\n",
        "mae = mean_absolute_error(y_test, y_pred)\n",
        "rmse = np.sqrt(mean_squared_error(y_test, y_pred))\n",
        "r2 = r2_score(y_test, y_pred)\n",
        "\n",
        "print(f\"MAE: {mae:.2f}\")\n",
        "print(f\"RMSE: {rmse:.2f}\")\n",
        "print(f\"R² Score: {r2:.3f}\")"
      ]
    },
    {
      "cell_type": "code",
      "execution_count": null,
      "id": "c7faec93-0344-4705-a4e2-7abc1432fa73",
      "metadata": {
        "id": "c7faec93-0344-4705-a4e2-7abc1432fa73"
      },
      "outputs": [],
      "source": []
    },
    {
      "cell_type": "code",
      "execution_count": null,
      "id": "19fe1b70-17a7-41b5-af0d-54088b49718c",
      "metadata": {
        "id": "19fe1b70-17a7-41b5-af0d-54088b49718c"
      },
      "outputs": [],
      "source": [
        "from sklearn.metrics import mean_absolute_error, mean_squared_error, r2_score\n",
        "import numpy as np\n",
        "\n",
        "# Predict on test set\n",
        "y_pred = model.predict(X_test_scaled)\n",
        "\n",
        "# Evaluation metrics\n",
        "mae = mean_absolute_error(y_test, y_pred)\n",
        "rmse = np.sqrt(mean_squared_error(y_test, y_pred))\n",
        "r2 = r2_score(y_test, y_pred)\n",
        "\n",
        "print(f\"MAE: {mae:.2f}\")\n",
        "print(f\"RMSE: {rmse:.2f}\")\n",
        "print(f\"R² Score: {r2:.3f}\")"
      ]
    },
    {
      "cell_type": "code",
      "execution_count": null,
      "id": "973416e5-696f-4db5-be02-d0f983d1eb89",
      "metadata": {
        "id": "973416e5-696f-4db5-be02-d0f983d1eb89"
      },
      "outputs": [],
      "source": [
        "from sklearn.metrics import mean_absolute_error, mean_squared_error, r2_score\n",
        "import numpy as np\n",
        "\n",
        "# Predict on test set\n",
        "y_pred = model.predict(X_test_scaled)\n",
        "\n",
        "# Evaluation metrics\n",
        "mae = mean_absolute_error(y_test, y_pred)\n",
        "rmse = np.sqrt(mean_squared_error(y_test, y_pred))\n",
        "r2 = r2_score(y_test, y_pred)\n",
        "\n",
        "print(f\"MAE: {mae:.2f}\")\n",
        "print(f\"RMSE: {rmse:.2f}\")\n",
        "print(f\"R² Score: {r2:.3f}\")"
      ]
    },
    {
      "cell_type": "code",
      "execution_count": null,
      "id": "abb9af5c-630b-48c4-a089-71337ea00de3",
      "metadata": {
        "id": "abb9af5c-630b-48c4-a089-71337ea00de3"
      },
      "outputs": [],
      "source": [
        "import matplotlib.pyplot as plt\n",
        "\n",
        "plt.figure(figsize=(6,6))\n",
        "plt.scatter(y_test, y_pred, color='blue', alpha=0.6)\n",
        "plt.plot([min(y_test), max(y_test)], [min(y_test), max(y_test)], color='red', linestyle='--')\n",
        "plt.xlabel('Actual Tg')\n",
        "plt.ylabel('Predicted Tg')\n",
        "plt.title('Actual vs Predicted Tg')\n",
        "plt.grid(True)\n",
        "plt.tight_layout()\n",
        "plt.show()"
      ]
    },
    {
      "cell_type": "code",
      "execution_count": null,
      "id": "44499b92-957d-442d-8028-7316db1d052b",
      "metadata": {
        "id": "44499b92-957d-442d-8028-7316db1d052b"
      },
      "outputs": [],
      "source": [
        "residuals = y_test - y_pred.reshape(-1)\n",
        "\n",
        "plt.figure(figsize=(6,4))\n",
        "plt.hist(residuals, bins=25, color='orange', edgecolor='black')\n",
        "plt.xlabel('Residuals')\n",
        "plt.ylabel('Frequency')\n",
        "plt.title('Residuals Distribution')\n",
        "plt.grid(True)\n",
        "plt.tight_layout()\n",
        "plt.show()"
      ]
    },
    {
      "cell_type": "code",
      "execution_count": null,
      "id": "1434d71f-055d-45f6-bd75-f2b066109346",
      "metadata": {
        "id": "1434d71f-055d-45f6-bd75-f2b066109346"
      },
      "outputs": [],
      "source": [
        "import matplotlib.pyplot as plt\n",
        "\n",
        "plt.figure(figsize=(6,6))\n",
        "plt.scatter(y_test, y_pred, color='blue', alpha=0.6)\n",
        "plt.plot([min(y_test), max(y_test)], [min(y_test), max(y_test)], color='red', linestyle='--')\n",
        "plt.xlabel('Actual Tg')\n",
        "plt.ylabel('Predicted Tg')\n",
        "plt.title('Actual vs Predicted Tg')\n",
        "plt.grid(True)\n",
        "plt.tight_layout()\n",
        "plt.savefig(\"actual_vs_predicted_tg.png\", dpi=600)\n",
        "plt.show()"
      ]
    },
    {
      "cell_type": "code",
      "execution_count": null,
      "id": "1fe35431-95d9-42f8-912b-3ed8b50e8809",
      "metadata": {
        "id": "1fe35431-95d9-42f8-912b-3ed8b50e8809"
      },
      "outputs": [],
      "source": [
        "residuals = y_test - y_pred.reshape(-1)\n",
        "\n",
        "plt.figure(figsize=(6,4))\n",
        "plt.hist(residuals, bins=25, color='orange', edgecolor='black')\n",
        "plt.xlabel('Residuals')\n",
        "plt.ylabel('Frequency')\n",
        "plt.title('Residuals Distribution')\n",
        "plt.grid(True)\n",
        "plt.tight_layout()\n",
        "plt.savefig(\"residuals_distribution.png\", dpi=600)\n",
        "plt.show()\n"
      ]
    },
    {
      "cell_type": "code",
      "execution_count": null,
      "id": "a0de38ff-01bb-4d37-b0c4-d5f91c57efa5",
      "metadata": {
        "id": "a0de38ff-01bb-4d37-b0c4-d5f91c57efa5"
      },
      "outputs": [],
      "source": [
        "plt.figure(figsize=(12,5))\n",
        "\n",
        "# Loss\n",
        "plt.subplot(1, 2, 1)\n",
        "plt.plot(history.history['loss'], label='Train Loss')\n",
        "plt.plot(history.history['val_loss'], label='Val Loss')\n",
        "plt.title('Loss During Training')\n",
        "plt.xlabel('Epochs')\n",
        "plt.ylabel('Loss')\n",
        "plt.legend()\n",
        "plt.grid(True)\n",
        "\n",
        "# MAE\n",
        "plt.subplot(1, 2, 2)\n",
        "plt.plot(history.history['mae'], label='Train MAE')\n",
        "plt.plot(history.history['val_mae'], label='Val MAE')\n",
        "plt.title('MAE During Training')\n",
        "plt.xlabel('Epochs')\n",
        "plt.ylabel('MAE')\n",
        "plt.legend()\n",
        "plt.grid(True)\n",
        "\n",
        "plt.tight_layout()\n",
        "plt.savefig(\"training_curves.png\", dpi=600)\n",
        "plt.show()\n"
      ]
    },
    {
      "cell_type": "code",
      "execution_count": null,
      "id": "fc3eae36-12d8-4efa-8f3b-db35a33a5033",
      "metadata": {
        "id": "fc3eae36-12d8-4efa-8f3b-db35a33a5033"
      },
      "outputs": [],
      "source": [
        "# Residuals vs Predicted\n",
        "residuals = y_test - y_pred.reshape(-1)\n",
        "\n",
        "plt.figure(figsize=(6, 4))\n",
        "plt.scatter(y_pred, residuals, alpha=0.6, color='purple')\n",
        "plt.axhline(0, color='red', linestyle='--')\n",
        "plt.xlabel('Predicted Tg')\n",
        "plt.ylabel('Residuals')\n",
        "plt.title('Residuals vs Predicted Tg')\n",
        "plt.grid(True)\n",
        "plt.tight_layout()\n",
        "plt.savefig(\"residuals_vs_predicted.png\", dpi=600)\n",
        "plt.show()\n"
      ]
    },
    {
      "cell_type": "code",
      "execution_count": null,
      "id": "635c9132-4222-494e-802f-d4ad273cc02e",
      "metadata": {
        "id": "635c9132-4222-494e-802f-d4ad273cc02e"
      },
      "outputs": [],
      "source": [
        "import shap\n",
        "\n",
        "# Wrap model for SHAP — use 100 samples if needed to speed up\n",
        "X_summary = pd.DataFrame(X_train_scaled, columns=X.columns)\n",
        "\n",
        "# KernelExplainer for general models\n",
        "explainer = shap.Explainer(model.predict, X_summary)\n",
        "shap_values = explainer(X_summary)\n",
        "\n",
        "# SHAP summary plot\n",
        "shap.summary_plot(shap_values, X_summary, max_display=15)"
      ]
    },
    {
      "cell_type": "code",
      "execution_count": null,
      "id": "520e0eca-eab2-4576-9094-6c6c48049216",
      "metadata": {
        "id": "520e0eca-eab2-4576-9094-6c6c48049216"
      },
      "outputs": [],
      "source": [
        "import seaborn as sns\n",
        "import matplotlib.pyplot as plt\n",
        "\n",
        "errors = y_test - y_pred.reshape(-1)\n",
        "\n",
        "plt.figure(figsize=(6, 4))\n",
        "sns.kdeplot(errors, shade=True, color=\"darkblue\")\n",
        "plt.axvline(0, linestyle='--', color='red')\n",
        "plt.title(\"Prediction Error Density\")\n",
        "plt.xlabel(\"Error (Actual - Predicted)\")\n",
        "plt.tight_layout()\n",
        "plt.savefig(\"prediction_error_density.png\", dpi=600)\n",
        "plt.show()"
      ]
    },
    {
      "cell_type": "code",
      "execution_count": null,
      "id": "419e018e-ce37-4f41-a274-249753ac856f",
      "metadata": {
        "id": "419e018e-ce37-4f41-a274-249753ac856f"
      },
      "outputs": [],
      "source": [
        "import scipy.stats as stats\n",
        "\n",
        "residuals = y_test - y_pred.reshape(-1)\n",
        "\n",
        "plt.figure(figsize=(6, 4))\n",
        "stats.probplot(residuals, dist=\"norm\", plot=plt)\n",
        "plt.title(\"Q-Q Plot of Residuals\")\n",
        "plt.tight_layout()\n",
        "plt.savefig(\"qq_plot_residuals.png\", dpi=600)\n",
        "plt.show()"
      ]
    },
    {
      "cell_type": "code",
      "execution_count": null,
      "id": "a8d24af8-921b-4cc6-a4bd-dc319fcc227c",
      "metadata": {
        "id": "a8d24af8-921b-4cc6-a4bd-dc319fcc227c"
      },
      "outputs": [],
      "source": [
        "from sklearn.metrics import r2_score\n",
        "import matplotlib.pyplot as plt\n",
        "\n",
        "r2_train = r2_score(y_train, model.predict(X_train_scaled))\n",
        "r2_test = r2_score(y_test, model.predict(X_test_scaled))\n",
        "\n",
        "plt.bar(['Train', 'Test'], [r2_train, r2_test], color=['skyblue', 'lightgreen'])\n",
        "plt.ylim(0, 1)\n",
        "plt.ylabel('R² Score')\n",
        "plt.title('R² Comparison - Train vs Test (ANN)')\n",
        "plt.tight_layout()\n",
        "plt.savefig(\"r2_comparison_ann.png\", dpi=600)\n",
        "plt.show()"
      ]
    },
    {
      "cell_type": "code",
      "execution_count": null,
      "id": "45e7fc38-86bf-46f0-be56-6842b5746668",
      "metadata": {
        "id": "45e7fc38-86bf-46f0-be56-6842b5746668"
      },
      "outputs": [],
      "source": [
        "import numpy as np\n",
        "\n",
        "# Predictions\n",
        "y_train_pred = model.predict(X_train_scaled)\n",
        "y_val_pred = model.predict(X_val_scaled)\n",
        "y_test_pred = model.predict(X_test_scaled)\n",
        "\n",
        "# Metrics\n",
        "metrics = {\n",
        "    \"Train\": [r2_score(y_train, y_train_pred), mean_absolute_error(y_train, y_train_pred), np.sqrt(mean_squared_error(y_train, y_train_pred))],\n",
        "    \"Validation\": [r2_score(y_val, y_val_pred), mean_absolute_error(y_val, y_val_pred), np.sqrt(mean_squared_error(y_val, y_val_pred))],\n",
        "    \"Test\": [r2_score(y_test, y_test_pred), mean_absolute_error(y_test, y_test_pred), np.sqrt(mean_squared_error(y_test, y_test_pred))]\n",
        "}\n",
        "\n",
        "labels = list(metrics.keys())\n",
        "r2_vals = [v[0] for v in metrics.values()]\n",
        "mae_vals = [v[1] for v in metrics.values()]\n",
        "rmse_vals = [v[2] for v in metrics.values()]\n",
        "\n",
        "x = np.arange(len(labels))\n",
        "width = 0.25\n",
        "\n",
        "plt.figure(figsize=(10, 6))\n",
        "plt.bar(x - width, r2_vals, width, label='R²', color='cornflowerblue')\n",
        "plt.bar(x, mae_vals, width, label='MAE', color='orange')\n",
        "plt.bar(x + width, rmse_vals, width, label='RMSE', color='green')\n",
        "plt.xticks(x, labels)\n",
        "plt.ylabel('Metric Value')\n",
        "plt.title('Model Performance Across Datasets')\n",
        "plt.legend()\n",
        "plt.tight_layout()\n",
        "plt.savefig(\"performance_across_datasets.png\", dpi=600)\n",
        "plt.show()"
      ]
    },
    {
      "cell_type": "code",
      "execution_count": null,
      "id": "34b29899-7f25-4cdd-b3a9-8aff5b2e14f9",
      "metadata": {
        "id": "34b29899-7f25-4cdd-b3a9-8aff5b2e14f9"
      },
      "outputs": [],
      "source": [
        "sorted_idx = np.argsort(y_test)\n",
        "plt.figure(figsize=(10,6))\n",
        "plt.plot(np.arange(len(y_test)), y_test.values[sorted_idx], label='Actual Tg', linewidth=2)\n",
        "plt.plot(np.arange(len(y_test)), y_pred[sorted_idx], label='Predicted Tg', linestyle='--', color='orange')\n",
        "plt.xlabel('Sample Index (Sorted by Actual Tg)')\n",
        "plt.ylabel('Tg')\n",
        "plt.title('Actual vs Predicted Tg (Sorted)')\n",
        "plt.legend()\n",
        "plt.tight_layout()\n",
        "plt.savefig(\"lineplot_actual_vs_pred.png\", dpi=600)\n",
        "plt.show()"
      ]
    },
    {
      "cell_type": "code",
      "execution_count": null,
      "id": "ece5d43b-5eb3-4ae4-8e50-83c41cd29aae",
      "metadata": {
        "id": "ece5d43b-5eb3-4ae4-8e50-83c41cd29aae"
      },
      "outputs": [],
      "source": [
        "residuals = y_test - y_pred.reshape(-1)\n",
        "\n",
        "plt.figure(figsize=(6, 4))\n",
        "plt.hist(residuals, bins=15, color='gray', edgecolor='black')\n",
        "plt.title(\"Residual Distribution\")\n",
        "plt.xlabel(\"Prediction Error\")\n",
        "plt.ylabel(\"Frequency\")\n",
        "plt.tight_layout()\n",
        "plt.savefig(\"residual_histogram.png\", dpi=600)\n",
        "plt.show()"
      ]
    },
    {
      "cell_type": "code",
      "execution_count": null,
      "id": "67051b1c-30f8-4170-8673-481178fc51ed",
      "metadata": {
        "id": "67051b1c-30f8-4170-8673-481178fc51ed"
      },
      "outputs": [],
      "source": [
        "import seaborn as sns\n",
        "\n",
        "sns.set(style='whitegrid')\n",
        "plt.figure(figsize=(6, 5))\n",
        "sns.regplot(x=y_test, y=y_pred.flatten(), ci=95, line_kws={\"color\":\"red\"})\n",
        "plt.xlabel(\"experimental_tg\")\n",
        "plt.ylabel(\"predicted_tg\")\n",
        "plt.title(\"Seaborn Regression Fit\")\n",
        "plt.tight_layout()\n",
        "plt.savefig(\"regression_fit_seaborn.png\", dpi=600)\n",
        "plt.show()"
      ]
    },
    {
      "cell_type": "code",
      "execution_count": null,
      "id": "8e2855e6-3cdf-46a9-aca7-25d90111602b",
      "metadata": {
        "id": "8e2855e6-3cdf-46a9-aca7-25d90111602b"
      },
      "outputs": [],
      "source": []
    }
  ],
  "metadata": {
    "kernelspec": {
      "display_name": "Python 3 (ipykernel)",
      "language": "python",
      "name": "python3"
    },
    "language_info": {
      "codemirror_mode": {
        "name": "ipython",
        "version": 3
      },
      "file_extension": ".py",
      "mimetype": "text/x-python",
      "name": "python",
      "nbconvert_exporter": "python",
      "pygments_lexer": "ipython3",
      "version": "3.10.12"
    },
    "colab": {
      "provenance": []
    }
  },
  "nbformat": 4,
  "nbformat_minor": 5
}