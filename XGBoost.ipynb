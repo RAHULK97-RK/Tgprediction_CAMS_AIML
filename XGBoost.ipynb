{
  "cells": [
    {
      "cell_type": "code",
      "execution_count": null,
      "id": "64d0930a-097a-48e9-9a2f-bdbafdce08e6",
      "metadata": {
        "id": "64d0930a-097a-48e9-9a2f-bdbafdce08e6"
      },
      "outputs": [],
      "source": [
        "import pandas as pd\n",
        "import numpy as np\n",
        "from sklearn.model_selection import train_test_split\n",
        "from sklearn.metrics import mean_squared_error, r2_score\n",
        "import xgboost as xgb\n",
        "import joblib\n",
        "import shap\n",
        "import matplotlib.pyplot as plt"
      ]
    },
    {
      "cell_type": "code",
      "execution_count": null,
      "id": "082bb071-a683-4e31-9f9c-acc0158fb91f",
      "metadata": {
        "id": "082bb071-a683-4e31-9f9c-acc0158fb91f"
      },
      "outputs": [],
      "source": [
        "# Load your dataset\n",
        "file_path = 'aiml_tg_prediction.xlsx'\n",
        "df = pd.read_excel(file_path)\n",
        "\n",
        "# Check for missing values\n",
        "print(df.isnull().sum())"
      ]
    },
    {
      "cell_type": "code",
      "execution_count": null,
      "id": "736aebac-0076-4c53-b8f5-8bf7a7384c07",
      "metadata": {
        "id": "736aebac-0076-4c53-b8f5-8bf7a7384c07"
      },
      "outputs": [],
      "source": [
        "# Define the target and features\n",
        "target_col = 'experimental_tg'\n",
        "features = df.drop(columns=[target_col])\n",
        "X = features.select_dtypes(include=[np.number])  # Only numerical features\n",
        "y = df[target_col]"
      ]
    },
    {
      "cell_type": "code",
      "execution_count": null,
      "id": "4bb4447a-ca1b-4903-a1bb-0c14b08c20c3",
      "metadata": {
        "id": "4bb4447a-ca1b-4903-a1bb-0c14b08c20c3"
      },
      "outputs": [],
      "source": [
        "# First split: train (80%) and temp (20%)\n",
        "X_train, X_temp, y_train, y_temp = train_test_split(X, y, test_size=0.2, random_state=42)\n",
        "\n",
        "# Second split: validation (10%) and test (10%)\n",
        "X_val, X_test, y_val, y_test = train_test_split(X_temp, y_temp, test_size=0.5, random_state=42)"
      ]
    },
    {
      "cell_type": "code",
      "execution_count": null,
      "id": "8bce104e-0da2-4ce0-a36d-14c24706020a",
      "metadata": {
        "id": "8bce104e-0da2-4ce0-a36d-14c24706020a"
      },
      "outputs": [],
      "source": [
        "# Convert to DMatrix\n",
        "dtrain = xgb.DMatrix(X_train, label=y_train)\n",
        "dval = xgb.DMatrix(X_val, label=y_val)\n",
        "\n",
        "# Set parameters\n",
        "params = {\n",
        "    'objective': 'reg:squarederror',\n",
        "    'learning_rate': 0.1,\n",
        "    'max_depth': 6,\n",
        "    'seed': 42\n",
        "}\n",
        "\n",
        "# Train using the native XGBoost API\n",
        "xgb_model = xgb.train(\n",
        "    params=params,\n",
        "    dtrain=dtrain,\n",
        "    num_boost_round=100,\n",
        "    evals=[(dval, 'validation')],\n",
        "    early_stopping_rounds=10,\n",
        "    verbose_eval=True\n",
        ")"
      ]
    },
    {
      "cell_type": "code",
      "execution_count": null,
      "id": "be98c1fa-f906-4ffb-8740-3d1e8c432e96",
      "metadata": {
        "id": "be98c1fa-f906-4ffb-8740-3d1e8c432e96"
      },
      "outputs": [],
      "source": [
        "# Convert test set to DMatrix\n",
        "dtest = xgb.DMatrix(X_test)\n",
        "\n",
        "# Predict\n",
        "y_pred = xgb_model.predict(dtest)"
      ]
    },
    {
      "cell_type": "code",
      "execution_count": null,
      "id": "6a3fab78-7949-41f5-99ac-946e451e4917",
      "metadata": {
        "id": "6a3fab78-7949-41f5-99ac-946e451e4917"
      },
      "outputs": [],
      "source": [
        "from sklearn.metrics import mean_squared_error, mean_absolute_error, r2_score\n",
        "\n",
        "mse = mean_squared_error(y_test, y_pred)\n",
        "mae = mean_absolute_error(y_test, y_pred)\n",
        "r2 = r2_score(y_test, y_pred)\n",
        "\n",
        "print(f\"Test MSE: {mse:.2f}\")\n",
        "print(f\"Test MAE: {mae:.2f}\")\n",
        "print(f\"Test R²: {r2:.2f}\")"
      ]
    },
    {
      "cell_type": "code",
      "execution_count": null,
      "id": "13e45289-c7ae-4db8-aec3-0b4592be6cb5",
      "metadata": {
        "id": "13e45289-c7ae-4db8-aec3-0b4592be6cb5"
      },
      "outputs": [],
      "source": [
        "xgb_model.save_model(\"xgb_tg_predictor.json\")"
      ]
    },
    {
      "cell_type": "code",
      "execution_count": null,
      "id": "4bb833b8-bc91-41e9-ac5a-f4dd061584a4",
      "metadata": {
        "id": "4bb833b8-bc91-41e9-ac5a-f4dd061584a4"
      },
      "outputs": [],
      "source": [
        "# SHAP analysis\n",
        "explainer = shap.Explainer(xgb_model)\n",
        "shap_values = explainer(X_test)\n",
        "\n",
        "# Summary plot\n",
        "shap.summary_plot(shap_values, X_test)"
      ]
    },
    {
      "cell_type": "code",
      "execution_count": null,
      "id": "f59ef7e1-7815-411f-9371-99a1553b5a6f",
      "metadata": {
        "id": "f59ef7e1-7815-411f-9371-99a1553b5a6f"
      },
      "outputs": [],
      "source": [
        "import pandas as pd\n",
        "import numpy as np\n",
        "import matplotlib.pyplot as plt\n",
        "import seaborn as sns\n",
        "import shap\n",
        "from sklearn.metrics import mean_squared_error, r2_score, mean_absolute_error\n",
        "\n",
        "# Predict on test set\n",
        "dtest = xgb.DMatrix(X_test)\n",
        "y_pred = xgb_model.predict(dtest)\n",
        "\n",
        "# Evaluation metrics\n",
        "mse = mean_squared_error(y_test, y_pred)\n",
        "r2 = r2_score(y_test, y_pred)\n",
        "mae = mean_absolute_error(y_test, y_pred)\n",
        "\n",
        "print(f\"Test MSE: {mse:.2f}\")\n",
        "print(f\"Test MAE: {mae:.2f}\")\n",
        "print(f\"Test R²: {r2:.2f}\")"
      ]
    },
    {
      "cell_type": "code",
      "execution_count": null,
      "id": "956eb6bb-4e95-4eef-ac05-5240df791f31",
      "metadata": {
        "id": "956eb6bb-4e95-4eef-ac05-5240df791f31"
      },
      "outputs": [],
      "source": [
        "plt.figure(figsize=(6, 6))\n",
        "sns.scatterplot(x=y_test, y=y_pred, s=60, color='crimson', edgecolor='black')\n",
        "plt.plot([y_test.min(), y_test.max()], [y_test.min(), y_test.max()], 'k--', lw=2)\n",
        "plt.xlabel(\"Actual Tg\")\n",
        "plt.ylabel(\"Predicted Tg\")\n",
        "plt.title(\"XGBoost: Actual vs Predicted Tg\")\n",
        "plt.grid(True)\n",
        "plt.tight_layout()\n",
        "plt.savefig(\"xgb_tg_actual_vs_pred.png\", dpi=300)\n",
        "plt.show()"
      ]
    },
    {
      "cell_type": "code",
      "execution_count": null,
      "id": "8d50f780-53d2-4ff9-a7ef-f86f522bd750",
      "metadata": {
        "id": "8d50f780-53d2-4ff9-a7ef-f86f522bd750"
      },
      "outputs": [],
      "source": [
        "# SHAP values\n",
        "explainer = shap.Explainer(xgb_model)\n",
        "shap_values = explainer(X_test)\n",
        "\n",
        "# SHAP summary plot\n",
        "shap.summary_plot(shap_values, X_test, plot_type=\"bar\", show=True)"
      ]
    },
    {
      "cell_type": "code",
      "execution_count": null,
      "id": "757e3689-a213-4eba-bde9-fad1025ed77c",
      "metadata": {
        "id": "757e3689-a213-4eba-bde9-fad1025ed77c"
      },
      "outputs": [],
      "source": [
        "results_df = pd.DataFrame({\n",
        "    \"Actual_Tg\": y_test.values,\n",
        "    \"Predicted_Tg\": y_pred\n",
        "})\n",
        "\n",
        "results_df.to_excel(\"xgb_tg_predictions.xlsx\", index=False)"
      ]
    },
    {
      "cell_type": "code",
      "execution_count": null,
      "id": "afbadfb4-ed0b-4a47-8b30-ba9b9f173fa4",
      "metadata": {
        "id": "afbadfb4-ed0b-4a47-8b30-ba9b9f173fa4"
      },
      "outputs": [],
      "source": [
        "xgb_model.save_model(\"xgb_tg_model.json\")"
      ]
    },
    {
      "cell_type": "code",
      "execution_count": null,
      "id": "79d50834-144c-451d-9cba-ad7dc18f8c23",
      "metadata": {
        "id": "79d50834-144c-451d-9cba-ad7dc18f8c23"
      },
      "outputs": [],
      "source": [
        "plt.figure(figsize=(8, 5))\n",
        "sns.histplot(y_test, bins=20, kde=True, color=\"skyblue\", label=\"Actual Tg\", stat=\"density\", linewidth=0)\n",
        "sns.histplot(y_pred, bins=20, kde=True, color=\"salmon\", label=\"Predicted Tg\", stat=\"density\", linewidth=0)\n",
        "plt.xlabel(\"Glass Transition Temperature (Tg)\")\n",
        "plt.ylabel(\"Density\")\n",
        "plt.title(\"Distribution of Actual vs Predicted Tg\")\n",
        "plt.legend()\n",
        "plt.grid(True)\n",
        "plt.tight_layout()\n",
        "plt.savefig(\"xgb_tg_distribution_kde.png\", dpi=300)\n",
        "plt.show()"
      ]
    },
    {
      "cell_type": "code",
      "execution_count": null,
      "id": "5b5882d7-3c9c-44bc-8727-64700c238772",
      "metadata": {
        "id": "5b5882d7-3c9c-44bc-8727-64700c238772"
      },
      "outputs": [],
      "source": [
        "plt.figure(figsize=(6, 4))\n",
        "sns.violinplot(data=[y_test, y_pred], palette=[\"skyblue\", \"salmon\"])\n",
        "plt.xticks([0, 1], [\"Actual Tg\", \"Predicted Tg\"])\n",
        "plt.ylabel(\"Tg\")\n",
        "plt.title(\"Violin Plot of Tg Distribution\")\n",
        "plt.grid(True)\n",
        "plt.tight_layout()\n",
        "plt.savefig(\"xgb_tg_violin_plot.png\", dpi=300)\n",
        "plt.show()"
      ]
    },
    {
      "cell_type": "code",
      "execution_count": null,
      "id": "7f89f31d-b0e9-4dd7-8f15-72a54bc00a30",
      "metadata": {
        "id": "7f89f31d-b0e9-4dd7-8f15-72a54bc00a30"
      },
      "outputs": [],
      "source": [
        "plt.figure(figsize=(6, 4))\n",
        "sns.boxplot(data=[y_test, y_pred], palette=[\"skyblue\", \"salmon\"])\n",
        "plt.xticks([0, 1], [\"Actual Tg\", \"Predicted Tg\"])\n",
        "plt.ylabel(\"Tg\")\n",
        "plt.title(\"Box Plot of Tg: Actual vs Predicted\")\n",
        "plt.grid(True)\n",
        "plt.tight_layout()\n",
        "plt.savefig(\"xgb_tg_box_plot.png\", dpi=300)\n",
        "plt.show()"
      ]
    },
    {
      "cell_type": "code",
      "execution_count": null,
      "id": "f63099b8-4905-44f3-bfd9-8979dab4133e",
      "metadata": {
        "id": "f63099b8-4905-44f3-bfd9-8979dab4133e"
      },
      "outputs": [],
      "source": [
        "import shap\n",
        "\n",
        "# Ensure SHAP values are computed\n",
        "explainer = shap.Explainer(xgb_model)\n",
        "shap_values = explainer(X_test)\n",
        "\n",
        "# Force plot for the first test sample\n",
        "shap.initjs()\n",
        "shap.force_plot(\n",
        "    base_value=explainer.expected_value,\n",
        "    shap_values=shap_values[0].values,\n",
        "    features=X_test.iloc[0],\n",
        "    feature_names=X_test.columns\n",
        ")"
      ]
    },
    {
      "cell_type": "code",
      "execution_count": null,
      "id": "90cb6f1a-37f4-4f4b-a5f9-08e01c15f45c",
      "metadata": {
        "id": "90cb6f1a-37f4-4f4b-a5f9-08e01c15f45c"
      },
      "outputs": [],
      "source": [
        "shap.save_html(\n",
        "    \"shap_force_plot_sample0.html\",\n",
        "    shap.force_plot(\n",
        "        base_value=explainer.expected_value,\n",
        "        shap_values=shap_values[0].values,\n",
        "        features=X_test.iloc[0],\n",
        "        feature_names=X_test.columns\n",
        "    )\n",
        ")"
      ]
    },
    {
      "cell_type": "code",
      "execution_count": null,
      "id": "d7ac60c1-fa48-4c5d-a4fa-6065fbe4f360",
      "metadata": {
        "id": "d7ac60c1-fa48-4c5d-a4fa-6065fbe4f360"
      },
      "outputs": [],
      "source": [
        "# Example scores\n",
        "r2_train = 0.97\n",
        "r2_test = 0.92\n",
        "\n",
        "plt.figure(figsize=(5, 5))\n",
        "plt.bar(['Train', 'Test'], [r2_train, r2_test], color=['skyblue', 'lightgreen'])\n",
        "plt.ylim(0, 1)\n",
        "plt.ylabel(\"R² Score\")\n",
        "plt.title(\"R² Comparison - Train vs Test (RF)\")\n",
        "plt.tight_layout()\n",
        "plt.savefig(\"rf_r2_comparison.png\", dpi=300)\n",
        "plt.show()"
      ]
    },
    {
      "cell_type": "code",
      "execution_count": null,
      "id": "ff577f00-163e-49de-9061-4a2a302c274a",
      "metadata": {
        "id": "ff577f00-163e-49de-9061-4a2a302c274a"
      },
      "outputs": [],
      "source": [
        "plt.figure(figsize=(10, 6))\n",
        "sns.histplot(df[\"experimental_tg\"], bins=np.arange(-60, 180, 10), color=\"lightcoral\", label=\"Tg Distribution\")\n",
        "plt.xlabel(\"Glass Transition Temperature (Tg)\")\n",
        "plt.ylabel(\"Frequency\")\n",
        "plt.title(\"Histogram of Tg Values\")\n",
        "plt.legend()\n",
        "plt.grid(True)\n",
        "plt.tight_layout()\n",
        "plt.savefig(\"tg_histogram_full_range.png\", dpi=300)\n",
        "plt.show()"
      ]
    },
    {
      "cell_type": "code",
      "execution_count": null,
      "id": "f7157ff0-66ae-4709-9caf-6c2b9c7d5f36",
      "metadata": {
        "id": "f7157ff0-66ae-4709-9caf-6c2b9c7d5f36"
      },
      "outputs": [],
      "source": [
        "labels = ['Train', 'Validation', 'Test']\n",
        "r2 = [0.91, 0.85, 0.87]\n",
        "mae = [5.4, 15.8, 11.0]\n",
        "rmse = [7.4, 20.2, 14.0]\n",
        "\n",
        "x = np.arange(len(labels))\n",
        "width = 0.25\n",
        "\n",
        "plt.figure(figsize=(10, 6))\n",
        "plt.bar(x - width, r2, width, label='R²', color='cornflowerblue')\n",
        "plt.bar(x, mae, width, label='MAE', color='orange')\n",
        "plt.bar(x + width, rmse, width, label='RMSE', color='green')\n",
        "\n",
        "plt.ylabel('Metric Value')\n",
        "plt.title('Model Performance Across Datasets')\n",
        "plt.xticks(x, labels)\n",
        "plt.legend()\n",
        "plt.grid(True)\n",
        "plt.tight_layout()\n",
        "plt.savefig(\"model_metric_comparison.png\", dpi=300)\n",
        "plt.show()"
      ]
    },
    {
      "cell_type": "code",
      "execution_count": null,
      "id": "d80a3040-4424-4085-b626-258484a44c1f",
      "metadata": {
        "id": "d80a3040-4424-4085-b626-258484a44c1f"
      },
      "outputs": [],
      "source": [
        "sorted_idx = np.argsort(y_test)\n",
        "plt.figure(figsize=(10, 6))\n",
        "plt.plot(np.arange(len(y_test)), y_test.values[sorted_idx], label=\"Actual Tg\", linewidth=2)\n",
        "plt.plot(np.arange(len(y_pred)), y_pred[sorted_idx], '--', label=\"Predicted Tg\", linewidth=2)\n",
        "plt.xlabel(\"Sample Index (Sorted by Actual Tg)\")\n",
        "plt.ylabel(\"Tg\")\n",
        "plt.title(\"Actual vs Predicted Tg (Sorted)\")\n",
        "plt.legend()\n",
        "plt.grid(True)\n",
        "plt.tight_layout()\n",
        "plt.savefig(\"actual_vs_pred_sorted.png\", dpi=300)\n",
        "plt.show()"
      ]
    },
    {
      "cell_type": "code",
      "execution_count": null,
      "id": "81892b35-ae09-408e-95de-c69ca7582f10",
      "metadata": {
        "id": "81892b35-ae09-408e-95de-c69ca7582f10"
      },
      "outputs": [],
      "source": [
        "residuals = y_test - y_pred\n",
        "plt.figure(figsize=(6, 5))\n",
        "plt.hist(residuals, bins=15, color='gray', edgecolor='black')\n",
        "plt.xlabel(\"Prediction Error\")\n",
        "plt.ylabel(\"Frequency\")\n",
        "plt.title(\"Residual Distribution\")\n",
        "plt.grid(True)\n",
        "plt.tight_layout()\n",
        "plt.savefig(\"residual_histogram.png\", dpi=300)\n",
        "plt.show()"
      ]
    },
    {
      "cell_type": "code",
      "execution_count": null,
      "id": "b9dda4b9-9d95-413e-9811-b3ce944705e5",
      "metadata": {
        "id": "b9dda4b9-9d95-413e-9811-b3ce944705e5"
      },
      "outputs": [],
      "source": [
        "plt.figure(figsize=(6, 5))\n",
        "sns.regplot(x=y_test, y=y_pred, ci=95, scatter_kws={\"s\": 50})\n",
        "plt.xlabel(\"experimental_tg\")\n",
        "plt.ylabel(\"predicted_tg\")\n",
        "plt.title(\"Linear Fit: Experimental vs Predicted Tg\")\n",
        "plt.tight_layout()\n",
        "plt.savefig(\"regression_fit_plot.png\", dpi=300)\n",
        "plt.show()"
      ]
    },
    {
      "cell_type": "code",
      "execution_count": null,
      "id": "87d88d0f-5f3b-4e28-b8a1-921e7ee6488f",
      "metadata": {
        "id": "87d88d0f-5f3b-4e28-b8a1-921e7ee6488f"
      },
      "outputs": [],
      "source": [
        "import pandas as pd\n",
        "import numpy as np\n",
        "\n",
        "# Example metrics (replace with actual)\n",
        "metrics_df = pd.DataFrame({\n",
        "    'Dataset': ['Train', 'Validation', 'Test'],\n",
        "    'R2': [0.91, 0.85, 0.87],\n",
        "    'MAE': [5.4, 15.8, 11.0],\n",
        "    'RMSE': [7.4, 20.2, 14.0]\n",
        "})\n",
        "\n",
        "# Tg histogram binning\n",
        "bins = np.arange(-60, 180, 10)\n",
        "hist, bin_edges = np.histogram(df[\"experimental_tg\"], bins=bins)\n",
        "tg_distribution_df = pd.DataFrame({\n",
        "    'Bin_Start': bin_edges[:-1],\n",
        "    'Bin_End': bin_edges[1:],\n",
        "    'Frequency': hist\n",
        "})\n",
        "\n",
        "# Residuals DataFrame\n",
        "residuals = y_test - y_pred\n",
        "residuals_df = pd.DataFrame({\n",
        "    'Actual_Tg': y_test.values,\n",
        "    'Predicted_Tg': y_pred,\n",
        "    'Residual': residuals\n",
        "})\n",
        "\n",
        "# Save all to Excel\n",
        "with pd.ExcelWriter(\"xgb_tg_statistics.xlsx\") as writer:\n",
        "    metrics_df.to_excel(writer, sheet_name=\"Model_Metrics\", index=False)\n",
        "    tg_distribution_df.to_excel(writer, sheet_name=\"Tg_Distribution\", index=False)\n",
        "    residuals_df.to_excel(writer, sheet_name=\"Prediction_Residuals\", index=False)\n",
        "\n",
        "print(\"✅ Excel summary saved as xgb_tg_statistics.xlsx\")"
      ]
    },
    {
      "cell_type": "code",
      "execution_count": null,
      "id": "f531b158-2a2f-4cc1-8ec1-17d4c2f1d641",
      "metadata": {
        "id": "f531b158-2a2f-4cc1-8ec1-17d4c2f1d641"
      },
      "outputs": [],
      "source": []
    }
  ],
  "metadata": {
    "kernelspec": {
      "display_name": "Python 3 (ipykernel)",
      "language": "python",
      "name": "python3"
    },
    "language_info": {
      "codemirror_mode": {
        "name": "ipython",
        "version": 3
      },
      "file_extension": ".py",
      "mimetype": "text/x-python",
      "name": "python",
      "nbconvert_exporter": "python",
      "pygments_lexer": "ipython3",
      "version": "3.10.12"
    },
    "colab": {
      "provenance": []
    }
  },
  "nbformat": 4,
  "nbformat_minor": 5
}